{
 "cells": [
  {
   "cell_type": "code",
   "execution_count": null,
   "metadata": {},
   "outputs": [],
   "source": [
    "import os\n",
    "import glob\n",
    "import pandas as pd"
   ]
  },
  {
   "cell_type": "code",
   "execution_count": null,
   "metadata": {},
   "outputs": [],
   "source": [
    "# Initialization parameters\n",
    "\n",
    "# input\n",
    "project_path = './'\n",
    "project_path_chambers = project_path + '01_raw_chamber_data/branch chambers/'"
   ]
  },
  {
   "cell_type": "code",
   "execution_count": null,
   "metadata": {},
   "outputs": [],
   "source": [
    "# List all files in the directory\n",
    "fn_list = sorted(glob.glob(project_path_chambers + '*/*', recursive=True))\n",
    "\n",
    "# For all files in the directory\n",
    "for fn_i, fn in enumerate(fn_list):\n",
    "    # Debugging message\n",
    "    if(fn_i % 1 == 0): # % 20 to show every 20th file being loaded\n",
    "        print( '{:<07}'.format(str(round(fn_i * 100 / len(fn_list), 4))) + \"%\\t\\t\" + fn.replace(project_path_chambers[:-1], \"\")[1:]) # Show status\n",
    "    \n",
    "    # Load the current file\n",
    "    do_something_with_file(fn)"
   ]
  }
 ],
 "metadata": {
  "kernelspec": {
   "display_name": "dp",
   "language": "python",
   "name": "dp"
  },
  "language_info": {
   "codemirror_mode": {
    "name": "ipython",
    "version": 3
   },
   "file_extension": ".py",
   "mimetype": "text/x-python",
   "name": "python",
   "nbconvert_exporter": "python",
   "pygments_lexer": "ipython3",
   "version": "3.8.2"
  }
 },
 "nbformat": 4,
 "nbformat_minor": 4
}
